{
 "cells": [
  {
   "cell_type": "code",
   "execution_count": 1,
   "metadata": {},
   "outputs": [],
   "source": [
    "import os\n",
    "import re\n",
    "import glob\n",
    "import nltk\n",
    "import numpy as np\n",
    "import pandas as pd\n",
    "import pandas_access as mdb\n",
    "import zipfile\n",
    "import recordlinkage as rl\n",
    "from os.path import join, basename\n",
    "from meza import io\n",
    "from params import get_params\n",
    "from nltk.tokenize import word_tokenize\n",
    "import seaborn as sns\n",
    "sns.set_context('paper')\n",
    "\n",
    "pd.set_option(\"display.max_columns\", 150)"
   ]
  },
  {
   "attachments": {},
   "cell_type": "markdown",
   "metadata": {},
   "source": [
    "Access to database"
   ]
  },
  {
   "cell_type": "code",
   "execution_count": 2,
   "metadata": {},
   "outputs": [],
   "source": [
    "## Access Birth 2020\n",
    "params = get_params()\n",
    "path = '/Users/pierredelice/Library/CloudStorage/Dropbox/Mac/Documents/GitHub/Dgis/Data/nacimiento/'\n",
    "file = glob.glob(join(path,r'*.csv'))\n",
    "file_zip = glob.glob(join(path,r'*.zip'))\n",
    "nacimiento_2020 = 'nac_unzip/Nacimientos_cierre_2020/Nacimientos_cierre_2020.csv'\n",
    "\n",
    "\n",
    "#Select columns \n",
    "cols = ['FOLIO','NOMBRE','PRIMERAPELLIDO',\n",
    "    'SEGUNDOAPELLIDO','CURPMADRE',\n",
    "    'FECHANACIMIENTOMADRE','ENTIDADNACIMIENTO',\n",
    "    'MUNICIPIONACIMIENTO','ENTIDADRESIDENCIA',\n",
    "    'MUNICIPIORESIDENCIA','LOCALIDADRESIDENCIA',\n",
    "    'HIJOSNACIDOSMUERTOS','HIJOSNACIDOSVIVOS',\n",
    "    'AFILIACION','FECHANACIMIENTO',\n",
    "    'HORANACIMIENTO','SEXO',\n",
    "    'ENTIDADFEDERATIVAPARTO','MUNICIPIOPARTO',\n",
    "    'LOCALIDADPARTO','CODIGOPOSTALPARTO']\n",
    "\n",
    "#Columns to rename\n",
    "name = {'PRIMERAPELLIDO':'paterno',\n",
    "'SEGUNDOAPELLIDO':'materno',\n",
    "'CURPMADRE':'curp',\n",
    "'FECHANACIMIENTOMADRE':'fech_nac_madre',\n",
    "'ENTIDADNACIMIENTO':'ent_nac_madre',\n",
    "'MUNICIPIONACIMIENTO':'mun_nac_madre',\n",
    "'ENTIDADRESIDENCIA':'ent_res',\n",
    "'MUNICIPIORESIDENCIA':'mun_res',\n",
    "'LOCALIDADRESIDENCIA':'local_res',\n",
    "'HIJOSNACIDOSMUERTOS':'hijos_muertos',\n",
    "'HIJOSNACIDOSVIVOS':'hijos_vivos',\n",
    "'FECHANACIMIENTO':'fech_nac',\n",
    "'ENTIDADFEDERATIVAPARTO':'ent_parto',\n",
    "'MUNICIPIOPARTO':'mun_parto',\n",
    "'LOCALIDADPARTO':'localidad_parto'}\n",
    "\n",
    "#Read data\n",
    "nac2020 = pd.read_csv(join(path,nacimiento_2020), usecols= cols, low_memory=False)\n",
    "\n",
    "#Rename columns\n",
    "nac2020.rename(columns=name, inplace =True)\n",
    "\n",
    "#To lower case columns\n",
    "nac2020.columns = [x.lower() for x in nac2020.columns]\n",
    "\n",
    "\n",
    "#To lower strings columns\n",
    "nac2020 = nac2020.apply(lambda x: x.astype(str).str.lower())\n",
    "\n",
    "#Convert to string\n",
    "#nac2020 = nac2020.convert_dtypes()\n",
    "nac2020[['ent_nac_madre','mun_nac_madre', \\\n",
    "    'ent_res','mun_res','hijos_muertos', \\\n",
    "    'hijos_vivos', 'afiliacion','sexo', \\\n",
    "    'ent_parto','mun_parto','localidad_parto']] = \\\n",
    "nac2020[['ent_nac_madre','mun_nac_madre', \\\n",
    "    'ent_res','mun_res','hijos_muertos', \\\n",
    "    'hijos_vivos', 'afiliacion','sexo', \\\n",
    "    'ent_parto','mun_parto','localidad_parto']].astype('int16')\n",
    "\n",
    "nac2020['folio'] = nac2020['folio'].astype('category')\n",
    "nac2020['fech_nac'] = pd.to_datetime(nac2020['fech_nac'], format='%d/%m/%Y', errors='coerce')\n",
    "nac2020['fech_nac_madre'] = pd.to_datetime(nac2020['fech_nac_madre'], format='%d/%m/%Y', errors='coerce')\n",
    "nac2020['horanacimiento'] = pd.to_datetime(nac2020['horanacimiento'], errors='coerce').dt.strftime('%H:%M')\n",
    "\n",
    "#Edad\n",
    "nac2020.loc[nac2020.fech_nac_madre == '2089-01-27','fech_nac_madre'] = '1989-01-07'\n",
    "nac2020.loc[nac2020.fech_nac_madre =='2095-08-30','fech_nac_madre'] = '1995-08-30'\n",
    "nac2020['edad_madre']=(round((nac2020['fech_nac'] - nac2020['fech_nac_madre'])/np.timedelta64(1, 'Y'),0))\n",
    "bins = [0,4,9,14,19,24,29,34,39,44,49,\n",
    "        54,59,64,69,74,79,84,89,94,120]\n",
    "labels = ['0-4','5-9','10-14','15-19',\n",
    "        '20-24','25-29','30-34','35-39',\n",
    "        '40-44','45-49','50-54','54-59',\n",
    "        '60-64','65-69','70-74','75-79',\n",
    "        '80-84','85-89','90-94', '95+']\n",
    "nac2020['agerange'] = pd.cut(nac2020.edad_madre, bins, labels = labels,include_lowest = True)\n",
    "\n",
    "#Create fullname: Nombre + Apellido materno y paterno\n",
    "nac2020['name'] = nac2020[['nombre', 'paterno', 'materno']].agg(' '.join, axis=1)"
   ]
  },
  {
   "cell_type": "code",
   "execution_count": 3,
   "metadata": {},
   "outputs": [
    {
     "name": "stdout",
     "output_type": "stream",
     "text": [
      "<class 'pandas.core.frame.DataFrame'>\n",
      "RangeIndex: 1747847 entries, 0 to 1747846\n",
      "Data columns (total 24 columns):\n",
      " #   Column             Dtype         \n",
      "---  ------             -----         \n",
      " 0   folio              category      \n",
      " 1   curp               object        \n",
      " 2   nombre             object        \n",
      " 3   paterno            object        \n",
      " 4   materno            object        \n",
      " 5   fech_nac_madre     datetime64[ns]\n",
      " 6   ent_nac_madre      int16         \n",
      " 7   mun_nac_madre      int16         \n",
      " 8   ent_res            int16         \n",
      " 9   mun_res            int16         \n",
      " 10  local_res          object        \n",
      " 11  hijos_muertos      int16         \n",
      " 12  hijos_vivos        int16         \n",
      " 13  afiliacion         int16         \n",
      " 14  fech_nac           datetime64[ns]\n",
      " 15  horanacimiento     object        \n",
      " 16  sexo               int16         \n",
      " 17  ent_parto          int16         \n",
      " 18  mun_parto          int16         \n",
      " 19  localidad_parto    int16         \n",
      " 20  codigopostalparto  object        \n",
      " 21  edad_madre         float64       \n",
      " 22  agerange           category      \n",
      " 23  name               object        \n",
      "dtypes: category(2), datetime64[ns](2), float64(1), int16(11), object(8)\n",
      "memory usage: 1.1 GB\n"
     ]
    }
   ],
   "source": [
    "nac2020.info(memory_usage='deep')"
   ]
  },
  {
   "cell_type": "code",
   "execution_count": 4,
   "metadata": {},
   "outputs": [
    {
     "data": {
      "text/plain": [
       "<AxesSubplot: xlabel='agerange', ylabel='hijos_vivos'>"
      ]
     },
     "execution_count": 4,
     "metadata": {},
     "output_type": "execute_result"
    },
    {
     "data": {
      "image/png": "[encoded data removed]",
      "text/plain": [
       "<Figure size 640x480 with 1 Axes>"
      ]
     },
     "metadata": {},
     "output_type": "display_data"
    }
   ],
   "source": [
    "#nac2020.agerange.value_counts().plot(kind='bar')\n",
    "sns.barplot(\n",
    "        data=nac2020,\n",
    "        x=\"agerange\",\n",
    "        y=\"hijos_vivos\",\n",
    "        #hue=\"party\",\n",
    "        #palette=['blue', 'red', 'yellow', 'grey'],\n",
    "        saturation=0.6,\n",
    "    )"
   ]
  },
  {
   "cell_type": "code",
   "execution_count": 5,
   "metadata": {},
   "outputs": [
    {
     "data": {
      "text/plain": [
       "<AxesSubplot: >"
      ]
     },
     "execution_count": 5,
     "metadata": {},
     "output_type": "execute_result"
    },
    {
     "data": {
      "image/png": "[encoded data removed]",
      "text/plain": [
       "<Figure size 640x480 with 1 Axes>"
      ]
     },
     "metadata": {},
     "output_type": "display_data"
    }
   ],
   "source": [
    "nac2020[nac2020.curp.str.contains('sin informacion')]['agerange'].value_counts().plot(kind='bar')"
   ]
  },
  {
   "attachments": {},
   "cell_type": "markdown",
   "metadata": {},
   "source": [
    "Entity cleansing"
   ]
  },
  {
   "cell_type": "code",
   "execution_count": 6,
   "metadata": {},
   "outputs": [],
   "source": [
    "#Selección de los registros a corregir\n",
    "RE_SUSPICIOUS = re.compile(r'desconocido|se ignora|sin informacion|[&#<>{}\\[\\]\\\\]')\n",
    "\n",
    "def impurity(text, min_len=3):\n",
    "    \"\"\"returns the share of suspicious characters in a text\"\"\" \n",
    "    if text == None or len(text) < min_len:\n",
    "        return 0 \n",
    "    else:\n",
    "        return len(RE_SUSPICIOUS.findall(text))/len(text)\n",
    "\n",
    "# add new column to data frame\n",
    "nac2020['impurity_before'] = nac2020['name'].apply(impurity, min_len=3)\n",
    "\n",
    "# get the top 3 records\n",
    "#nac2020[['name', 'impurity_before']].sort_values(by='impurity_before', ascending=False)"
   ]
  },
  {
   "cell_type": "code",
   "execution_count": 7,
   "metadata": {},
   "outputs": [
    {
     "data": {
      "text/plain": [
       "2306"
      ]
     },
     "execution_count": 7,
     "metadata": {},
     "output_type": "execute_result"
    }
   ],
   "source": [
    "len(nac2020[nac2020.impurity_before>0])"
   ]
  },
  {
   "cell_type": "code",
   "execution_count": 8,
   "metadata": {},
   "outputs": [
    {
     "data": {
      "text/html": [
       "<div>\n",
       "<style scoped>\n",
       "    .dataframe tbody tr th:only-of-type {\n",
       "        vertical-align: middle;\n",
       "    }\n",
       "\n",
       "    .dataframe tbody tr th {\n",
       "        vertical-align: top;\n",
       "    }\n",
       "\n",
       "    .dataframe thead th {\n",
       "        text-align: right;\n",
       "    }\n",
       "</style>\n",
       "<table border=\"1\" class=\"dataframe\">\n",
       "  <thead>\n",
       "    <tr style=\"text-align: right;\">\n",
       "      <th></th>\n",
       "      <th>folio</th>\n",
       "      <th>curp</th>\n",
       "      <th>nombre</th>\n",
       "      <th>paterno</th>\n",
       "      <th>materno</th>\n",
       "      <th>fech_nac_madre</th>\n",
       "      <th>ent_nac_madre</th>\n",
       "      <th>mun_nac_madre</th>\n",
       "      <th>ent_res</th>\n",
       "      <th>mun_res</th>\n",
       "      <th>local_res</th>\n",
       "      <th>hijos_muertos</th>\n",
       "      <th>hijos_vivos</th>\n",
       "      <th>afiliacion</th>\n",
       "      <th>fech_nac</th>\n",
       "      <th>horanacimiento</th>\n",
       "      <th>sexo</th>\n",
       "      <th>ent_parto</th>\n",
       "      <th>mun_parto</th>\n",
       "      <th>localidad_parto</th>\n",
       "      <th>codigopostalparto</th>\n",
       "      <th>edad_madre</th>\n",
       "      <th>agerange</th>\n",
       "      <th>name</th>\n",
       "      <th>impurity_before</th>\n",
       "      <th>clean_name</th>\n",
       "    </tr>\n",
       "  </thead>\n",
       "  <tbody>\n",
       "  </tbody>\n",
       "</table>\n",
       "</div>"
      ],
      "text/plain": [
       "Empty DataFrame\n",
       "Columns: [folio, curp, nombre, paterno, materno, fech_nac_madre, ent_nac_madre, mun_nac_madre, ent_res, mun_res, local_res, hijos_muertos, hijos_vivos, afiliacion, fech_nac, horanacimiento, sexo, ent_parto, mun_parto, localidad_parto, codigopostalparto, edad_madre, agerange, name, impurity_before, clean_name]\n",
       "Index: []"
      ]
     },
     "execution_count": 8,
     "metadata": {},
     "output_type": "execute_result"
    }
   ],
   "source": [
    "def clean(text):\n",
    "    # convert html escapes like &amp; to characters.\n",
    "    #text = html.unescape(text) \n",
    "    # tags like <tab>\n",
    "    text = re.sub(r'<[^<>]*>', ' ', text)\n",
    "    # markdown URLs like [Some text](https://....)\n",
    "    text = re.sub(r'\\[([^\\[\\]]*)\\]\\([^\\(\\)]*\\)', r'\\1', text)\n",
    "    # text or code in brackets like [0]\n",
    "    text = re.sub(r'\\[[^\\[\\]]*\\]', ' ', text)\n",
    "    # standalone sequences of specials, matches &# but not #cool\n",
    "    text = re.sub(r'(?:^|\\s)[&#<>{}\\[\\]+|\\\\:-]{1,}(?:\\s|$)', '', text)\n",
    "    # standalone sequences of hyphens like --- or ==\n",
    "    text = re.sub(r'(?:^|\\s)[\\-=\\+]{2,}(?:\\s|$)', '', text)\n",
    "    # sequences of white spaces\n",
    "    text = re.sub(r'\\s+', ' ', text)\n",
    "    # Unnecessary words and characters\n",
    "    text = re.sub(r'desconocido|se ignora|sin informacion|informacion|[&#<>{}\\[\\]\\\\]','', text)\n",
    "    return text\n",
    "\n",
    "nac2020['clean_name'] = nac2020['name'].map(clean)\n",
    "#nac2020['impurity'] = nac2020['clean_name'].apply(impurity, min_len=3)\n",
    "#nac2020[['clean_name', 'impurity']].sort_values(by='impurity', ascending=False).head(3)\n",
    "nac2020[nac2020['clean_name'].apply(impurity, min_len=3) > 0]"
   ]
  },
  {
   "cell_type": "code",
   "execution_count": 9,
   "metadata": {},
   "outputs": [
    {
     "data": {
      "text/html": [
       "<div>\n",
       "<style scoped>\n",
       "    .dataframe tbody tr th:only-of-type {\n",
       "        vertical-align: middle;\n",
       "    }\n",
       "\n",
       "    .dataframe tbody tr th {\n",
       "        vertical-align: top;\n",
       "    }\n",
       "\n",
       "    .dataframe thead th {\n",
       "        text-align: right;\n",
       "    }\n",
       "</style>\n",
       "<table border=\"1\" class=\"dataframe\">\n",
       "  <thead>\n",
       "    <tr style=\"text-align: right;\">\n",
       "      <th></th>\n",
       "      <th>freq</th>\n",
       "    </tr>\n",
       "    <tr>\n",
       "      <th>token</th>\n",
       "      <th></th>\n",
       "    </tr>\n",
       "  </thead>\n",
       "  <tbody>\n",
       "    <tr>\n",
       "      <th></th>\n",
       "      <td>47357809</td>\n",
       "    </tr>\n",
       "  </tbody>\n",
       "</table>\n",
       "</div>"
      ],
      "text/plain": [
       "           freq\n",
       "token          \n",
       "       47357809"
      ]
     },
     "execution_count": 9,
     "metadata": {},
     "output_type": "execute_result"
    }
   ],
   "source": [
    "from collections import Counter\n",
    "\n",
    "counter = Counter()\n",
    "\n",
    "def count_words(df, column='tokens', preprocess=None, min_freq=2):\n",
    "    # process tokens and update counter \n",
    "    def update(doc):\n",
    "        tokens = doc if preprocess is None else preprocess(doc)\n",
    "        counter.update(tokens)\n",
    "\n",
    "    # create counter and run through all data \n",
    "    counter = Counter() \n",
    "    \n",
    "    df[column].map(update)\n",
    "\n",
    "    # transform counter into a DataFrame\n",
    "    freq_df = pd.DataFrame.from_dict(counter, orient='index', columns=['freq']) \n",
    "    freq_df = freq_df.query('freq >= @min_freq') \n",
    "    freq_df.index.name = 'token'\n",
    "    return freq_df.sort_values('freq', ascending=False)\n",
    "\n",
    "count_words(nac2020, column='clean_name', preprocess=lambda t: re.findall(r'desconocido|se ignora|sin informacion|[?&#<>{}\\[\\]\\\\]*', t))"
   ]
  },
  {
   "cell_type": "code",
   "execution_count": 10,
   "metadata": {},
   "outputs": [
    {
     "data": {
      "text/plain": [
       "clean_name    0\n",
       "name          0\n",
       "nombre        0\n",
       "paterno       0\n",
       "materno       0\n",
       "dtype: int64"
      ]
     },
     "execution_count": 10,
     "metadata": {},
     "output_type": "execute_result"
    }
   ],
   "source": [
    "nac2020[['clean_name','name','nombre','paterno','materno']].isnull().sum()"
   ]
  },
  {
   "cell_type": "code",
   "execution_count": 11,
   "metadata": {},
   "outputs": [
    {
     "data": {
      "text/plain": [
       "name          1657455\n",
       "clean_name    1657002\n",
       "dtype: int64"
      ]
     },
     "execution_count": 11,
     "metadata": {},
     "output_type": "execute_result"
    }
   ],
   "source": [
    "(nac2020[['name','clean_name']].nunique())"
   ]
  },
  {
   "cell_type": "code",
   "execution_count": 12,
   "metadata": {},
   "outputs": [
    {
     "data": {
      "text/plain": [
       "name          0.948284\n",
       "clean_name    0.948025\n",
       "dtype: float64"
      ]
     },
     "execution_count": 12,
     "metadata": {},
     "output_type": "execute_result"
    }
   ],
   "source": [
    "(nac2020[['name','clean_name']].nunique()/len(nac2020))"
   ]
  },
  {
   "cell_type": "code",
   "execution_count": 13,
   "metadata": {},
   "outputs": [],
   "source": [
    "#(nac2020[['name','clean_name']].nunique()/len(nac2020)).plot(kind='bar')"
   ]
  },
  {
   "cell_type": "code",
   "execution_count": 14,
   "metadata": {},
   "outputs": [],
   "source": [
    "from recordlinkage.standardise import phonetic\n",
    "\n",
    "\n",
    "class soundex():\n",
    "    def soundex_met(nac2020):\n",
    "        return nac2020.assign(nombre_soundex=phonetic(nac2020['clean_name'],\n",
    "                                                 method='soundex'))\n",
    "\n",
    "    def result(nac2020):\n",
    "        return nac2020.assign(\n",
    "            id_soundex=nac2020[['nombre_soundex']].agg(''.join, axis=1))\n",
    "        return id_soundex\n",
    "\n",
    "\n",
    "nac2020 = soundex.soundex_met(nac2020)\n",
    "nac2020 = soundex.result(nac2020)"
   ]
  },
  {
   "cell_type": "code",
   "execution_count": 15,
   "metadata": {},
   "outputs": [],
   "source": [
    "nac = nac2020.sample(n= 100000, random_state=1)"
   ]
  },
  {
   "cell_type": "code",
   "execution_count": 16,
   "metadata": {},
   "outputs": [
    {
     "name": "stderr",
     "output_type": "stream",
     "text": [
      "/var/folders/f7/cfmwg9550852tgnwq3tw36vr0000gn/T/ipykernel_2776/2239741818.py:2: DeprecationWarning: The argument 'on' is deprecated. Use 'left_on=...' and 'right_on=None' to simulate the behaviour of 'on'.\n",
      "  block_id_soundex = Block(on=['nombre_soundex'])\n"
     ]
    },
    {
     "name": "stdout",
     "output_type": "stream",
     "text": [
      "No of pairs: 18505800\n"
     ]
    }
   ],
   "source": [
    "from recordlinkage.index import Block\n",
    "block_id_soundex = Block(on=['nombre_soundex'])\n",
    "block_id_s = block_id_soundex.index(nac)\n",
    "print(f\"No of pairs: {len(block_id_s)}\")"
   ]
  },
  {
   "cell_type": "code",
   "execution_count": 17,
   "metadata": {},
   "outputs": [],
   "source": [
    "cols = ['folio', 'clean_name','curp', 'fech_nac_madre',\n",
    "       'ent_nac_madre', 'mun_nac_madre',\n",
    "       'ent_res',  'mun_res','local_res', \n",
    "       'afiliacion','fech_nac', 'horanacimiento',\n",
    "       'sexo', 'ent_parto',\n",
    "       'mun_parto', 'localidad_parto']\n",
    "nac = nac2020[cols]"
   ]
  },
  {
   "cell_type": "code",
   "execution_count": 18,
   "metadata": {},
   "outputs": [
    {
     "name": "stderr",
     "output_type": "stream",
     "text": [
      "/var/folders/f7/cfmwg9550852tgnwq3tw36vr0000gn/T/ipykernel_2776/2174118127.py:6: DeprecationWarning: The argument 'on' is deprecated. Use 'left_on=...' and 'right_on=None' to simulate the behaviour of 'on'.\n",
      "  Block_id = Block(on=['clean_name', 'fech_nac_madre', 'ent_nac_madre',\n"
     ]
    },
    {
     "name": "stdout",
     "output_type": "stream",
     "text": [
      "--- 4.202420949935913 seconds ---\n"
     ]
    }
   ],
   "source": [
    "import time\n",
    "\n",
    "start_time = time.time()\n",
    "\n",
    "#Blocking for CANDIDATE PAIRS\n",
    "Block_id = Block(on=['clean_name', 'fech_nac_madre', 'ent_nac_madre',\n",
    "'mun_nac_madre', 'curp', 'ent_res','mun_res','horanacimiento'])\n",
    "Block_id_pairs = Block_id.index(nac)\n",
    "\n",
    "#pairs = Block_name_pairs.union(Block_id_pairs)\n",
    "print(\"--- %s seconds ---\" % (time.time() - start_time))"
   ]
  },
  {
   "cell_type": "code",
   "execution_count": 19,
   "metadata": {},
   "outputs": [
    {
     "name": "stdout",
     "output_type": "stream",
     "text": [
      "Número de duplicados 1087\n",
      "Porcentaje de duplicados 0.06219079816482793\n"
     ]
    },
    {
     "data": {
      "text/plain": [
       "MultiIndex([( 141030,     249),\n",
       "            (   2027,    1666),\n",
       "            (   6967,    6966),\n",
       "            (  11269,   11268),\n",
       "            (  13436,   13435),\n",
       "            (  14030,   14029),\n",
       "            ( 671075,   16256),\n",
       "            (  16562,   16534),\n",
       "            (  17092,   17091),\n",
       "            (  18631,   18592),\n",
       "            ...\n",
       "            (1717351, 1717332),\n",
       "            (1723586, 1722199),\n",
       "            (1733848, 1722720),\n",
       "            (1723071, 1723015),\n",
       "            (1723041, 1723040),\n",
       "            (1731535, 1724540),\n",
       "            (1725197, 1725063),\n",
       "            (1735970, 1734958),\n",
       "            (1740127, 1735733),\n",
       "            (1747671, 1744073)],\n",
       "           length=1087)"
      ]
     },
     "execution_count": 19,
     "metadata": {},
     "output_type": "execute_result"
    }
   ],
   "source": [
    "print('Número de duplicados',len(Block_id_pairs))\n",
    "print('Porcentaje de duplicados',100*len(Block_id_pairs)/len(nac))\n",
    "Block_id_pairs"
   ]
  },
  {
   "cell_type": "code",
   "execution_count": 20,
   "metadata": {},
   "outputs": [],
   "source": [
    "nac0 = nac2020.loc[Block_id_pairs.to_flat_index().str[0]]\n",
    "nac1 = nac2020.loc[Block_id_pairs.to_flat_index().str[1]]\n",
    "nac_dup = pd.concat([nac1,nac0])\n"
   ]
  },
  {
   "cell_type": "code",
   "execution_count": null,
   "metadata": {},
   "outputs": [],
   "source": [
    "nac_dup.sort_values(by = ['clean_name'],axis=0)"
   ]
  },
  {
   "cell_type": "code",
   "execution_count": 22,
   "metadata": {},
   "outputs": [],
   "source": [
    "#ax = sns.barplot(\n",
    "#        data=nac_dup,\n",
    "#        x=\"ent_res\",\n",
    "#        y=\"hijos_vivos\",\n",
    "#        #hue=\"party\",\n",
    "#        #palette=['blue', 'red', 'yellow', 'grey'],\n",
    "#        saturation=0.6,\n",
    "#    )"
   ]
  },
  {
   "attachments": {},
   "cell_type": "markdown",
   "metadata": {},
   "source": [
    "Word embeddings"
   ]
  },
  {
   "cell_type": "code",
   "execution_count": 23,
   "metadata": {},
   "outputs": [],
   "source": [
    "nac2020.fech_nac_madre = nac2020.fech_nac_madre.astype(str)\n",
    "nac2020.ent_nac_madre = nac2020.ent_nac_madre.astype(str)\n",
    "nac2020.mun_nac_madre = nac2020.mun_nac_madre.astype(str)\n",
    "nac2020.fech_nac = nac2020.fech_nac.astype(str)\n",
    "id = nac2020[['clean_name','fech_nac_madre','ent_nac_madre', \\\n",
    "    'mun_nac_madre','fech_nac']].agg(' '.join, axis=1)"
   ]
  },
  {
   "cell_type": "code",
   "execution_count": 24,
   "metadata": {},
   "outputs": [],
   "source": [
    "id = nac2020.clean_name[:100]"
   ]
  },
  {
   "cell_type": "code",
   "execution_count": 26,
   "metadata": {},
   "outputs": [],
   "source": [
    "# create K-shingles by sliding window approach\n",
    "def getShingles(str1, K=5):\n",
    "    d1 = set()\n",
    "    for i in range(len(str1)-K):\n",
    "        d1.add(str1[i:i+K])\n",
    "    #print(f\"Found {len(d1)} unique shingles, out of {len(str1)} possible.\")\n",
    "    return d1\n",
    "doc_shingles = [getShingles(s, 5) for s in id]"
   ]
  },
  {
   "cell_type": "code",
   "execution_count": null,
   "metadata": {},
   "outputs": [],
   "source": [
    "doc_shingles"
   ]
  },
  {
   "cell_type": "code",
   "execution_count": 28,
   "metadata": {},
   "outputs": [],
   "source": [
    "import itertools\n",
    "def jaccardSim(d1,d2):\n",
    "    return len(d1.intersection(d2))/len(d1.union(d2))\n",
    "\n",
    "# itertools.combinations finds all (,n) n-pairs\n",
    "# then we use a map op on the tuples with jaccardSim\n",
    "pairs = itertools.combinations(id, 2)\n",
    "pair_labels = []\n",
    "pair_sims = []\n",
    "for x1, x2 in itertools.combinations(zip(range(len(doc_shingles)),doc_shingles), 2):\n",
    "    pair_labels.append((x1[0],x2[0]))\n",
    "    pair_sims.append(jaccardSim(x1[1],x2[1]))\n",
    "    \n",
    "#print(f\"**~~~~~~ True similarity scores ~~~~~~**\")\n",
    "#print(\"Pair\\tScore\")\n",
    "#print(\"-\"*14)\n",
    "#for pair, score in zip(pair_labels, pair_sims):\n",
    "    #print(f\"{pair}\\t{score:.3f}\")"
   ]
  },
  {
   "cell_type": "code",
   "execution_count": 29,
   "metadata": {},
   "outputs": [
    {
     "name": "stdout",
     "output_type": "stream",
     "text": [
      "There are 1533 shingles\n"
     ]
    }
   ],
   "source": [
    "# Take union of all sets. Convert to an array and assign\n",
    "# each element an integer based on position in array\n",
    "fullset = set.union(*doc_shingles)\n",
    "shingle_dict = dict(zip(list(fullset),range(len(fullset))))\n",
    "print(f\"There are {len(shingle_dict)} shingles\")"
   ]
  },
  {
   "cell_type": "code",
   "execution_count": 30,
   "metadata": {},
   "outputs": [
    {
     "name": "stdout",
     "output_type": "stream",
     "text": [
      "Initialization test: passed\n",
      "Set parameters to right size: passed\n",
      "Permuting a row integer returns array: passed\n",
      "Compute minhashed signature matrix: passed\n"
     ]
    }
   ],
   "source": [
    "# Create a hash function\n",
    "# define as a callable class, so that we only\n",
    "# intialize random functions once\n",
    "class HashManager():\n",
    "    def __init__(self, shingle_dict):\n",
    "        self.shingle_dict = shingle_dict\n",
    "        self.N = len(shingle_dict)\n",
    "        self.params = None\n",
    "        \n",
    "    def _initParams(self, n_sig):\n",
    "        self.params = np.random.randint(self.N, size=[n_sig,2])\n",
    "    \n",
    "    def _permuteRow(self, row):\n",
    "        return (self.params@np.array([1,row]))%self.N\n",
    "    \n",
    "    def __call__(self, docs, n_sig, init=True):\n",
    "        # Initialize if we change signature matrix length\n",
    "        # or if we request to re-initialize\n",
    "        if self.params is None or len(self.params) != n_sig or init:\n",
    "            self._initParams(n_sig)\n",
    "            \n",
    "        #initialize signature matrix\n",
    "        sig = np.full((n_sig, len(docs)), np.inf)\n",
    "        \n",
    "        # each doc in docs is assumed to be an iterable object\n",
    "        for j, doc in enumerate(docs):\n",
    "            for shingle in doc:\n",
    "                orig_row = shingle_dict[shingle]\n",
    "                curr_col = self._permuteRow(orig_row)\n",
    "                sig[:,j] = np.minimum(sig[:,j],curr_col)\n",
    "        return sig.astype(int)\n",
    "    \n",
    "# run some tests:\n",
    "try:\n",
    "    print(\"Initialization test: \", end=\"\")\n",
    "    hm = HashManager(shingle_dict)\n",
    "    print(\"passed\")\n",
    "\n",
    "    print(\"Set parameters to right size: \", end=\"\")\n",
    "    hm._initParams(n_sig=4)\n",
    "    assert(hm.params.shape == (4,2))\n",
    "    print(\"passed\")\n",
    "\n",
    "    print(\"Permuting a row integer returns array: \", end=\"\")\n",
    "    curr_col = hm._permuteRow(3)\n",
    "    assert(curr_col.shape == (4,))\n",
    "    print(\"passed\")\n",
    "\n",
    "    print(\"Compute minhashed signature matrix: \", end=\"\")\n",
    "    hm(doc_shingles, 4)\n",
    "    print(\"passed\")\n",
    "except Exception as e:\n",
    "    print(\"failure\")\n",
    "    print(e.args)"
   ]
  },
  {
   "cell_type": "code",
   "execution_count": 31,
   "metadata": {},
   "outputs": [],
   "source": [
    "hm = HashManager(shingle_dict)"
   ]
  },
  {
   "cell_type": "code",
   "execution_count": null,
   "metadata": {},
   "outputs": [],
   "source": [
    "def trueSimScores(doc_shingles):\n",
    "    pair_labels = []\n",
    "    pair_sims = []\n",
    "    idxs = range(len(doc_shingles))\n",
    "    for x1, x2 in itertools.combinations(zip(idxs,doc_shingles), 2):\n",
    "        pair_labels.append((x1[0], x2[0]))\n",
    "        pair_sims.append(jaccardSim(x1[1], x2[1]))\n",
    "    return dict(zip(pair_labels, pair_sims))\n",
    "    \n",
    "def sigSimScores(sig_mat):\n",
    "#     cols = [sig_mat[:,i] for i in range(sig_mat.shape[1])]\n",
    "    cols = sig_mat.T\n",
    "    idxs = range(sig_mat.shape[1])\n",
    "    \n",
    "    pair_labels = []\n",
    "    pair_sims = []\n",
    "    for (i,col1), (j,col2) in itertools.combinations(zip(idxs, cols),2):\n",
    "        pair_labels.append((i,j))\n",
    "        pair_sims.append(np.mean(col1==col2))\n",
    "    \n",
    "    return dict(zip(pair_labels, pair_sims))\n",
    "\n",
    "def printScoreComparison(true_dict, approx_dict):\n",
    "    print(f\"**~~~~~~ Similarity score comparison ~~~~~~**\")\n",
    "    print(\"Pair\\t\\tApprox\\t\\tTrue\\t\\t%Error\")\n",
    "    for pair, true_value in true_dict.items():\n",
    "        approx_value = approx_dict[pair]\n",
    "        err = 100*abs(true_value-approx_value)/true_value\n",
    "        print(f\"{pair}\\t\\t{approx_value:.3f}\\t\\t{true_value:.3f}\\t\\t{err:.2f}\")\n",
    "\n",
    "def candidatePairs(score_dict, threshold):\n",
    "    return set(pair for pair, scr in score_dict.items() if scr>=threshold)\n",
    "\n",
    "def accMatrix(true_dict, approx_dict, threshold):\n",
    "    true_pairs = candidatePairs(true_dict, threshold)\n",
    "    approx_pairs = candidatePairs(approx_dict, threshold)\n",
    "    false_negatives = len(true_pairs - approx_pairs)\n",
    "    false_positives = len(approx_pairs - true_pairs)\n",
    "    print(f\"False negatives: {false_negatives}\")\n",
    "    print(f\"Potential false positives: {false_positives}\")\n",
    "\n",
    "sig_mat = hm(doc_shingles, 10)\n",
    "true_score_dict = trueSimScores(doc_shingles)\n",
    "approx_score_dict = sigSimScores(sig_mat)\n",
    "printScoreComparison(true_score_dict, approx_score_dict)\n",
    "\n",
    "print(\"True pairs:\",candidatePairs(true_score_dict, 0.25))\n",
    "print(\"Candidate pairs:\",candidatePairs(approx_score_dict, 0.25))\n",
    "accMatrix(true_score_dict, approx_score_dict, 0.4)\n",
    "\n",
    "# print(f\"**~~~~~~ Approximate similarity scores ~~~~~~**\")\n",
    "# print(\"Pair\\t\\tApproximate Score\\t\\tTrue Score\")\n",
    "# print(\"-\"*14)\n",
    "# for pair, score in sigSimScores(sig_mat):\n",
    "#     print(f\"{pair}\\t{score:.3f}\")\n",
    "    \n",
    "# print(f\"**~~~~~~ True similarity scores ~~~~~~**\")\n",
    "# print(\"Pair\\tScore\")\n",
    "# print(\"-\"*14)\n",
    "# for pair, score in zip(pair_labels, pair_sims):\n",
    "#     print(f\"{pair}\\t{score:.3f}\")"
   ]
  },
  {
   "cell_type": "code",
   "execution_count": 33,
   "metadata": {},
   "outputs": [
    {
     "data": {
      "text/plain": [
       "{(1, 50), (5, 18), (13, 75), (33, 42), (33, 45), (39, 88), (41, 91), (66, 73)}"
      ]
     },
     "execution_count": 33,
     "metadata": {},
     "output_type": "execute_result"
    }
   ],
   "source": [
    "candidatePairs(true_score_dict, 0.20)"
   ]
  },
  {
   "cell_type": "code",
   "execution_count": null,
   "metadata": {},
   "outputs": [],
   "source": [
    "id.loc[[1,50,5,18,33,45,39,88,41,91,66,73]]"
   ]
  },
  {
   "cell_type": "code",
   "execution_count": null,
   "metadata": {},
   "outputs": [],
   "source": [
    "id.loc[[81,82]]"
   ]
  },
  {
   "cell_type": "code",
   "execution_count": null,
   "metadata": {},
   "outputs": [],
   "source": [
    "nac2020"
   ]
  },
  {
   "cell_type": "code",
   "execution_count": null,
   "metadata": {},
   "outputs": [],
   "source": [
    "nac2020.clean_name.value_counts()"
   ]
  },
  {
   "cell_type": "code",
   "execution_count": null,
   "metadata": {},
   "outputs": [],
   "source": [
    "nac2020.name.value_counts()"
   ]
  },
  {
   "cell_type": "code",
   "execution_count": 51,
   "metadata": {},
   "outputs": [
    {
     "data": {
      "text/plain": [
       "<AxesSubplot: >"
      ]
     },
     "execution_count": 51,
     "metadata": {},
     "output_type": "execute_result"
    },
    {
     "data": {
      "image/png": "[encoded data removed]",
      "text/plain": [
       "<Figure size 640x480 with 1 Axes>"
      ]
     },
     "metadata": {},
     "output_type": "display_data"
    }
   ],
   "source": [
    "nac2020[nac2020.clean_name.str.contains('maria guadalupe hernandez hernandez')].sort_values(by='fech_nac_madre')['ent_res'].value_counts().plot(kind='bar')"
   ]
  },
  {
   "cell_type": "code",
   "execution_count": 40,
   "metadata": {},
   "outputs": [],
   "source": [
    "nac2020['clean_name_token'] = nac2020.clean_name.apply(word_tokenize).str.len()"
   ]
  },
  {
   "cell_type": "code",
   "execution_count": null,
   "metadata": {},
   "outputs": [],
   "source": [
    "nac2020[nac2020.clean_name_token ==0]"
   ]
  },
  {
   "cell_type": "code",
   "execution_count": null,
   "metadata": {},
   "outputs": [],
   "source": []
  }
 ],
 "metadata": {
  "kernelspec": {
   "display_name": "Python 3",
   "language": "python",
   "name": "python3"
  },
  "language_info": {
   "codemirror_mode": {
    "name": "ipython",
    "version": 3
   },
   "file_extension": ".py",
   "mimetype": "text/x-python",
   "name": "python",
   "nbconvert_exporter": "python",
   "pygments_lexer": "ipython3",
   "version": "3.11.1"
  },
  "orig_nbformat": 4,
  "vscode": {
   "interpreter": {
    "hash": "5c7b89af1651d0b8571dde13640ecdccf7d5a6204171d6ab33e7c296e100e08a"
   }
  }
 },
 "nbformat": 4,
 "nbformat_minor": 2
}
