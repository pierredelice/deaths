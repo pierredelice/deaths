{
 "cells": [
  {
   "cell_type": "code",
   "execution_count": 1,
   "metadata": {},
   "outputs": [],
   "source": [
    "import os\n",
    "import re\n",
    "import glob\n",
    "import nltk\n",
    "import numpy as np\n",
    "import pandas as pd\n",
    "import pandas_access as mdb\n",
    "import zipfile\n",
    "import recordlinkage as rl\n",
    "from os.path import join, basename\n",
    "from meza import io\n",
    "from params import get_params\n",
    "from nltk.tokenize import word_tokenize\n",
    "pd.set_option(\"display.max_columns\", 150)"
   ]
  },
  {
   "cell_type": "code",
   "execution_count": 2,
   "metadata": {},
   "outputs": [],
   "source": [
    "params = get_params()\n",
    "path = '/Users/pierredelice/Library/CloudStorage/Dropbox/Mac/Documents/GitHub/Dgis/Data/nacimiento/'\n",
    "file = glob.glob(join(path,r'*.csv'))\n",
    "file_zip = glob.glob(join(path,r'*.zip'))\n",
    "nacimiento_2020 = 'nac_unzip/Nacimientos_cierre_2020/Nacimientos_cierre_2020.csv'"
   ]
  },
  {
   "attachments": {},
   "cell_type": "markdown",
   "metadata": {},
   "source": [
    "Access to database"
   ]
  },
  {
   "cell_type": "code",
   "execution_count": 3,
   "metadata": {},
   "outputs": [],
   "source": [
    "## Access Birth 2020\n",
    "\n",
    "#Select columns \n",
    "cols = ['FOLIO','NOMBRE','PRIMERAPELLIDO','SEGUNDOAPELLIDO','CURPMADRE',\n",
    "'FECHANACIMIENTOMADRE','ENTIDADNACIMIENTO','ENTIDADNACIMIENTOD',\n",
    "'MUNICIPIONACIMIENTO','MUNICIPIONACIMIENTOD',\n",
    "'ENTIDADRESIDENCIA','ENTIDADRESIDENCIAD','MUNICIPIORESIDENCIA',\n",
    "'MUNICIPIORESIDENCIAD','LOCALIDADRESIDENCIA','LOCALIDADRESIDENCIAD',\n",
    "'HIJOSNACIDOSMUERTOS','HIJOSNACIDOSVIVOS','CERTIFICADODEFUNCION',\n",
    "'AFILIACION','AFILIACIOND','FECHANACIMIENTO','HORANACIMIENTO','SEXO',\n",
    "'ENTIDADFEDERATIVAPARTO','ENTIDADFEDERATIVAPARTOD','MUNICIPIOPARTO',\n",
    "'MUNICIPIOPARTOD','LOCALIDADPARTO','LOCALIDADPARTOD','CODIGOPOSTALPARTO']\n",
    "\n",
    "#Columns to rename\n",
    "name = {'PRIMERAPELLIDO':'paterno',\n",
    "'SEGUNDOAPELLIDO':'materno',\n",
    "'CURPMADRE':'curp',\n",
    "'FECHANACIMIENTOMADRE':'fech_nac_madre',\n",
    "'ENTIDADNACIMIENTO':'ent_nac_madre',\n",
    "'MUNICIPIONACIMIENTO':'mun_nac_madre',\n",
    "'ENTIDADRESIDENCIA':'ent_res',\n",
    "'MUNICIPIORESIDENCIA':'mun_res',\n",
    "'LOCALIDADRESIDENCIA':'local_res',\n",
    "'HIJOSNACIDOSMUERTOS':'hijos_muertos',\n",
    "'HIJOSNACIDOSVIVOS':'hijos_vivos',\n",
    "'FECHANACIMIENTO':'fech_nac',\n",
    "'ENTIDADFEDERATIVAPARTO':'ent_parto',\n",
    "'MUNICIPIOPARTO':'mun_parto',\n",
    "'LOCALIDADPARTO':'localidad_parto'}\n",
    "\n",
    "#Read data\n",
    "nac2020 = pd.read_csv(join(path,nacimiento_2020), usecols= cols, low_memory=False)\n",
    "\n",
    "#Rename columns\n",
    "nac2020.rename(columns=name, inplace =True)\n",
    "\n",
    "#To lower case columns\n",
    "nac2020.columns = [x.lower() for x in nac2020.columns]\n",
    "\n",
    "\n",
    "#To lower strings columns\n",
    "nac2020 = nac2020.apply(lambda x: x.astype(str).str.lower())\n",
    "\n",
    "#Convert to string\n",
    "nac2020 = nac2020.convert_dtypes()\n",
    "\n",
    "#Create fullname: Nombre + Apellido materno y paterno\n",
    "nac2020['name'] = nac2020[['nombre', 'paterno', 'materno']].agg(' '.join, axis=1)"
   ]
  },
  {
   "attachments": {},
   "cell_type": "markdown",
   "metadata": {},
   "source": [
    "#Entity cleansing"
   ]
  },
  {
   "cell_type": "code",
   "execution_count": null,
   "metadata": {},
   "outputs": [],
   "source": [
    "#Selección de los registros a corregir\n",
    "RE_SUSPICIOUS = re.compile(r'desconocido|se ignora|sin informacion|[&#<>{}\\[\\]\\\\]')\n",
    "\n",
    "def impurity(text, min_len=3):\n",
    "    \"\"\"returns the share of suspicious characters in a text\"\"\" \n",
    "    if text == None or len(text) < min_len:\n",
    "        return 0 \n",
    "    else:\n",
    "        return len(RE_SUSPICIOUS.findall(text))/len(text)\n",
    "\n",
    "# add new column to data frame\n",
    "nac2020['impurity_before'] = nac2020['name'].apply(impurity, min_len=3)\n",
    "\n",
    "# get the top 3 records\n",
    "nac2020[['name', 'impurity_before']].sort_values(by='impurity_before', ascending=False)"
   ]
  },
  {
   "cell_type": "code",
   "execution_count": 5,
   "metadata": {},
   "outputs": [
    {
     "data": {
      "text/plain": [
       "2306"
      ]
     },
     "execution_count": 5,
     "metadata": {},
     "output_type": "execute_result"
    }
   ],
   "source": [
    "len(nac2020[nac2020.impurity_before>0])"
   ]
  },
  {
   "cell_type": "code",
   "execution_count": 6,
   "metadata": {},
   "outputs": [
    {
     "data": {
      "text/html": [
       "<div>\n",
       "<style scoped>\n",
       "    .dataframe tbody tr th:only-of-type {\n",
       "        vertical-align: middle;\n",
       "    }\n",
       "\n",
       "    .dataframe tbody tr th {\n",
       "        vertical-align: top;\n",
       "    }\n",
       "\n",
       "    .dataframe thead th {\n",
       "        text-align: right;\n",
       "    }\n",
       "</style>\n",
       "<table border=\"1\" class=\"dataframe\">\n",
       "  <thead>\n",
       "    <tr style=\"text-align: right;\">\n",
       "      <th></th>\n",
       "      <th>folio</th>\n",
       "      <th>curp</th>\n",
       "      <th>nombre</th>\n",
       "      <th>paterno</th>\n",
       "      <th>materno</th>\n",
       "      <th>fech_nac_madre</th>\n",
       "      <th>ent_nac_madre</th>\n",
       "      <th>entidadnacimientod</th>\n",
       "      <th>mun_nac_madre</th>\n",
       "      <th>municipionacimientod</th>\n",
       "      <th>ent_res</th>\n",
       "      <th>entidadresidenciad</th>\n",
       "      <th>mun_res</th>\n",
       "      <th>municipioresidenciad</th>\n",
       "      <th>local_res</th>\n",
       "      <th>localidadresidenciad</th>\n",
       "      <th>hijos_muertos</th>\n",
       "      <th>hijos_vivos</th>\n",
       "      <th>certificadodefuncion</th>\n",
       "      <th>afiliacion</th>\n",
       "      <th>afiliaciond</th>\n",
       "      <th>fech_nac</th>\n",
       "      <th>horanacimiento</th>\n",
       "      <th>sexo</th>\n",
       "      <th>ent_parto</th>\n",
       "      <th>entidadfederativapartod</th>\n",
       "      <th>mun_parto</th>\n",
       "      <th>municipiopartod</th>\n",
       "      <th>localidad_parto</th>\n",
       "      <th>localidadpartod</th>\n",
       "      <th>codigopostalparto</th>\n",
       "      <th>name</th>\n",
       "      <th>impurity_before</th>\n",
       "      <th>clean_name</th>\n",
       "    </tr>\n",
       "  </thead>\n",
       "  <tbody>\n",
       "  </tbody>\n",
       "</table>\n",
       "</div>"
      ],
      "text/plain": [
       "Empty DataFrame\n",
       "Columns: [folio, curp, nombre, paterno, materno, fech_nac_madre, ent_nac_madre, entidadnacimientod, mun_nac_madre, municipionacimientod, ent_res, entidadresidenciad, mun_res, municipioresidenciad, local_res, localidadresidenciad, hijos_muertos, hijos_vivos, certificadodefuncion, afiliacion, afiliaciond, fech_nac, horanacimiento, sexo, ent_parto, entidadfederativapartod, mun_parto, municipiopartod, localidad_parto, localidadpartod, codigopostalparto, name, impurity_before, clean_name]\n",
       "Index: []"
      ]
     },
     "execution_count": 6,
     "metadata": {},
     "output_type": "execute_result"
    }
   ],
   "source": [
    "def clean(text):\n",
    "    # convert html escapes like &amp; to characters.\n",
    "    #text = html.unescape(text) \n",
    "    # tags like <tab>\n",
    "    text = re.sub(r'<[^<>]*>', ' ', text)\n",
    "    # markdown URLs like [Some text](https://....)\n",
    "    text = re.sub(r'\\[([^\\[\\]]*)\\]\\([^\\(\\)]*\\)', r'\\1', text)\n",
    "    # text or code in brackets like [0]\n",
    "    text = re.sub(r'\\[[^\\[\\]]*\\]', ' ', text)\n",
    "    # standalone sequences of specials, matches &# but not #cool\n",
    "    text = re.sub(r'(?:^|\\s)[&#<>{}\\[\\]+|\\\\:-]{1,}(?:\\s|$)', '', text)\n",
    "    # standalone sequences of hyphens like --- or ==\n",
    "    text = re.sub(r'(?:^|\\s)[\\-=\\+]{2,}(?:\\s|$)', '', text)\n",
    "    # sequences of white spaces\n",
    "    text = re.sub(r'\\s+', ' ', text)\n",
    "    # Unnecessary words and characters\n",
    "    text = re.sub(r'desconocido|se ignora|sin informacion|informacion|[&#<>{}\\[\\]\\\\]','', text)\n",
    "    return text\n",
    "\n",
    "nac2020['clean_name'] = nac2020['name'].map(clean)\n",
    "#nac2020['impurity'] = nac2020['clean_name'].apply(impurity, min_len=3)\n",
    "#nac2020[['clean_name', 'impurity']].sort_values(by='impurity', ascending=False).head(3)\n",
    "nac2020[nac2020['clean_name'].apply(impurity, min_len=3) > 0]"
   ]
  },
  {
   "cell_type": "code",
   "execution_count": 7,
   "metadata": {},
   "outputs": [
    {
     "data": {
      "text/html": [
       "<div>\n",
       "<style scoped>\n",
       "    .dataframe tbody tr th:only-of-type {\n",
       "        vertical-align: middle;\n",
       "    }\n",
       "\n",
       "    .dataframe tbody tr th {\n",
       "        vertical-align: top;\n",
       "    }\n",
       "\n",
       "    .dataframe thead th {\n",
       "        text-align: right;\n",
       "    }\n",
       "</style>\n",
       "<table border=\"1\" class=\"dataframe\">\n",
       "  <thead>\n",
       "    <tr style=\"text-align: right;\">\n",
       "      <th></th>\n",
       "      <th>freq</th>\n",
       "    </tr>\n",
       "    <tr>\n",
       "      <th>token</th>\n",
       "      <th></th>\n",
       "    </tr>\n",
       "  </thead>\n",
       "  <tbody>\n",
       "    <tr>\n",
       "      <th></th>\n",
       "      <td>47357809</td>\n",
       "    </tr>\n",
       "  </tbody>\n",
       "</table>\n",
       "</div>"
      ],
      "text/plain": [
       "           freq\n",
       "token          \n",
       "       47357809"
      ]
     },
     "execution_count": 7,
     "metadata": {},
     "output_type": "execute_result"
    }
   ],
   "source": [
    "from collections import Counter\n",
    "\n",
    "counter = Counter()\n",
    "\n",
    "def count_words(df, column='tokens', preprocess=None, min_freq=2):\n",
    "    # process tokens and update counter \n",
    "    def update(doc):\n",
    "        tokens = doc if preprocess is None else preprocess(doc)\n",
    "        counter.update(tokens)\n",
    "\n",
    "    # create counter and run through all data \n",
    "    counter = Counter() \n",
    "    \n",
    "    df[column].map(update)\n",
    "\n",
    "    # transform counter into a DataFrame\n",
    "    freq_df = pd.DataFrame.from_dict(counter, orient='index', columns=['freq']) \n",
    "    freq_df = freq_df.query('freq >= @min_freq') \n",
    "    freq_df.index.name = 'token'\n",
    "    return freq_df.sort_values('freq', ascending=False)\n",
    "\n",
    "count_words(nac2020, column='clean_name', preprocess=lambda t: re.findall(r'desconocido|se ignora|sin informacion|[?&#<>{}\\[\\]\\\\]*', t))"
   ]
  },
  {
   "cell_type": "code",
   "execution_count": 8,
   "metadata": {},
   "outputs": [
    {
     "data": {
      "text/plain": [
       "clean_name    0\n",
       "name          0\n",
       "nombre        0\n",
       "paterno       0\n",
       "materno       0\n",
       "dtype: int64"
      ]
     },
     "execution_count": 8,
     "metadata": {},
     "output_type": "execute_result"
    }
   ],
   "source": [
    "nac2020[['clean_name','name','nombre','paterno','materno']].isnull().sum()"
   ]
  },
  {
   "cell_type": "code",
   "execution_count": 9,
   "metadata": {},
   "outputs": [
    {
     "data": {
      "text/plain": [
       "name          1657455\n",
       "clean_name    1657002\n",
       "dtype: int64"
      ]
     },
     "execution_count": 9,
     "metadata": {},
     "output_type": "execute_result"
    }
   ],
   "source": [
    "(nac2020[['name','clean_name']].nunique())"
   ]
  },
  {
   "cell_type": "code",
   "execution_count": 10,
   "metadata": {},
   "outputs": [
    {
     "data": {
      "text/plain": [
       "name          0.948284\n",
       "clean_name    0.948025\n",
       "dtype: float64"
      ]
     },
     "execution_count": 10,
     "metadata": {},
     "output_type": "execute_result"
    }
   ],
   "source": [
    "(nac2020[['name','clean_name']].nunique()/len(nac2020))"
   ]
  },
  {
   "cell_type": "code",
   "execution_count": 11,
   "metadata": {},
   "outputs": [
    {
     "data": {
      "text/plain": [
       "<AxesSubplot: >"
      ]
     },
     "execution_count": 11,
     "metadata": {},
     "output_type": "execute_result"
    },
    {
     "data": {
      "image/png": "[encoded data removed]",
      "text/plain": [
       "<Figure size 640x480 with 1 Axes>"
      ]
     },
     "metadata": {},
     "output_type": "display_data"
    }
   ],
   "source": [
    "(nac2020[['name','clean_name']].nunique()/len(nac2020)).plot(kind='bar')"
   ]
  },
  {
   "cell_type": "code",
   "execution_count": 12,
   "metadata": {},
   "outputs": [],
   "source": [
    "from recordlinkage.standardise import phonetic\n",
    "\n",
    "\n",
    "class soundex():\n",
    "    def soundex_met(nac202):\n",
    "        return nac2020.assign(nombre_soundex=phonetic(nac2020['clean_name'],\n",
    "                                                 method='soundex'))\n",
    "\n",
    "    def result(nac2020):\n",
    "        return nac2020.assign(\n",
    "            id_soundex=nac2020[['nombre_soundex']].agg(''.join, axis=1))\n",
    "        return id_soundex\n",
    "\n",
    "\n",
    "nac2020 = soundex.soundex_met(nac2020)\n",
    "nac2020 = soundex.result(nac2020)"
   ]
  },
  {
   "cell_type": "code",
   "execution_count": 13,
   "metadata": {},
   "outputs": [
    {
     "name": "stderr",
     "output_type": "stream",
     "text": [
      "/var/folders/f7/cfmwg9550852tgnwq3tw36vr0000gn/T/ipykernel_15455/306662049.py:2: DeprecationWarning: The argument 'on' is deprecated. Use 'left_on=...' and 'right_on=None' to simulate the behaviour of 'on'.\n",
      "  block_id_soundex = Block(on=['nombre_soundex'])\n"
     ]
    }
   ],
   "source": [
    "from recordlinkage.index import Block\n",
    "block_id_soundex = Block(on=['nombre_soundex'])\n",
    "#block_id_s = block_id_soundex.index(nac2020)\n",
    "#print(f\"No of pairs: {len(block_id_s)}\")"
   ]
  },
  {
   "cell_type": "code",
   "execution_count": 14,
   "metadata": {},
   "outputs": [
    {
     "name": "stdout",
     "output_type": "stream",
     "text": [
      "--- 0.0001468658447265625 seconds ---\n"
     ]
    },
    {
     "name": "stderr",
     "output_type": "stream",
     "text": [
      "/var/folders/f7/cfmwg9550852tgnwq3tw36vr0000gn/T/ipykernel_15455/1082760955.py:6: DeprecationWarning: The argument 'on' is deprecated. Use 'left_on=...' and 'right_on=None' to simulate the behaviour of 'on'.\n",
      "  Block_name = Block(on=['nombre_soundex'])\n",
      "/var/folders/f7/cfmwg9550852tgnwq3tw36vr0000gn/T/ipykernel_15455/1082760955.py:7: DeprecationWarning: The argument 'on' is deprecated. Use 'left_on=...' and 'right_on=None' to simulate the behaviour of 'on'.\n",
      "  Block_id = Block(on=['name', 'fech_nac_madre', 'ent_nac_madre'])\n"
     ]
    }
   ],
   "source": [
    "import time\n",
    "\n",
    "start_time = time.time()\n",
    "\n",
    "#Blocking for CANDIDATE PAIRS\n",
    "Block_name = Block(on=['nombre_soundex'])\n",
    "Block_id = Block(on=['name', 'fech_nac_madre', 'ent_nac_madre'])\n",
    "\n",
    "#Block_name_pairs = Block_name.index(nac2020)\n",
    "#Block_id_pairs = Block_id.index(nac2020)\n",
    "\n",
    "#pairs = Block_name_pairs.union(Block_id_pairs)\n",
    "print(\"--- %s seconds ---\" % (time.time() - start_time))"
   ]
  },
  {
   "cell_type": "code",
   "execution_count": null,
   "metadata": {},
   "outputs": [],
   "source": []
  }
 ],
 "metadata": {
  "kernelspec": {
   "display_name": "Python 3",
   "language": "python",
   "name": "python3"
  },
  "language_info": {
   "codemirror_mode": {
    "name": "ipython",
    "version": 3
   },
   "file_extension": ".py",
   "mimetype": "text/x-python",
   "name": "python",
   "nbconvert_exporter": "python",
   "pygments_lexer": "ipython3",
   "version": "3.11.1"
  },
  "orig_nbformat": 4,
  "vscode": {
   "interpreter": {
    "hash": "5c7b89af1651d0b8571dde13640ecdccf7d5a6204171d6ab33e7c296e100e08a"
   }
  }
 },
 "nbformat": 4,
 "nbformat_minor": 2
}
