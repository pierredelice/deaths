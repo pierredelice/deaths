{
 "cells": [
  {
   "cell_type": "code",
   "execution_count": 9,
   "metadata": {},
   "outputs": [],
   "source": [
    "import os\n",
    "from os.path import join\n",
    "import glob\n",
    "from meza import io\n",
    "import numpy as np\n",
    "import pandas as pd\n",
    "from params import get_params"
   ]
  },
  {
   "cell_type": "code",
   "execution_count": 38,
   "metadata": {},
   "outputs": [
    {
     "data": {
      "text/plain": [
       "['Nacimientos_cierre_2020.zip',\n",
       " 'SINAC1636.zip',\n",
       " 'Nacimientos_cierre_2020.csv',\n",
       " 'SINAC0936.zip',\n",
       " '.DS_Store',\n",
       " 'SINAC1036.zip',\n",
       " 'SINAC1436-A-01-16-OFICIAL.mdb',\n",
       " 'SINAC1236.zip',\n",
       " 'SINAC1536.zip',\n",
       " 'NACIMIENTOS_2019_CIERRE.csv',\n",
       " 'SINAC1436-B-17-32-OFICIAL.mdb',\n",
       " 'NACIMIENTOS_2019_CIERRE.zip',\n",
       " 'SINAC0836.zip',\n",
       " 'SINAC1136.zip',\n",
       " 'SINAC1036.mdb',\n",
       " 'SINAC1736_DICIEMBRE.zip',\n",
       " 'SINAC1336_cierre-2013-ok.zip',\n",
       " 'SINAC1836.zip']"
      ]
     },
     "execution_count": 38,
     "metadata": {},
     "output_type": "execute_result"
    }
   ],
   "source": [
    "os.listdir(path)"
   ]
  },
  {
   "cell_type": "code",
   "execution_count": 88,
   "metadata": {},
   "outputs": [],
   "source": [
    "params = get_params()\n",
    "path = '/Users/pierredelice/Library/CloudStorage/Dropbox/Mac/Documents/GitHub/Defunción/Data/nacimiento/'\n",
    "file = glob.glob(join(path,r'*.csv'))\n",
    "file_zip = glob.glob(join(path,r'*.zip'))\n"
   ]
  },
  {
   "cell_type": "code",
   "execution_count": null,
   "metadata": {},
   "outputs": [],
   "source": [
    "nac2020 = pd.read_csv('/Users/pierredelice/Library/CloudStorage/Dropbox/Mac/Documents/GitHub/Defunción/Data/nacimiento/Nacimientos_cierre_2020.csv')\n",
    "nac2019 = pd.read_csv('/Users/pierredelice/Library/CloudStorage/Dropbox/Mac/Documents/GitHub/Defunción/Data/nacimiento/NACIMIENTOS_2019_CIERRE.csv',encoding= 'unicode_escape')"
   ]
  },
  {
   "cell_type": "code",
   "execution_count": 80,
   "metadata": {},
   "outputs": [
    {
     "data": {
      "text/plain": [
       "[108, 179]"
      ]
     },
     "execution_count": 80,
     "metadata": {},
     "output_type": "execute_result"
    }
   ],
   "source": [
    "nac = [nac2019,nac2020]\n",
    "[len(nac_.columns.to_list()) for nac_ in nac]"
   ]
  },
  {
   "cell_type": "code",
   "execution_count": null,
   "metadata": {},
   "outputs": [],
   "source": [
    "pd.concat([pd.read_csv(idx,encoding= 'unicode_escape') for idx in file])"
   ]
  },
  {
   "cell_type": "code",
   "execution_count": null,
   "metadata": {},
   "outputs": [],
   "source": [
    "import zipfile\n",
    "from zipfile import ZipFile\n",
    "\"\"\"Extract example .zip file into this directory\"\"\"\n",
    "\n",
    "archive = zipfile.ZipFile(file_zip, 'r')\n",
    "archive.extractall(path=None, members=None, pwd=None)"
   ]
  },
  {
   "cell_type": "code",
   "execution_count": 16,
   "metadata": {},
   "outputs": [
    {
     "data": {
      "text/plain": [
       "<mdb_parser.MDBParser at 0x127c31510>"
      ]
     },
     "execution_count": 16,
     "metadata": {},
     "output_type": "execute_result"
    }
   ],
   "source": [
    "from mdb_parser import MDBParser, MDBTable\n",
    "\n",
    "db = MDBParser(file_path='/Users/pierredelice/Library/CloudStorage/Dropbox/Mac/Downloads/Bibliography_tesis_buap/ICOKG_2022/python_bigquery/dgis_datos_id/nacimiento/SINAC1036.mdb')\n"
   ]
  },
  {
   "cell_type": "code",
   "execution_count": null,
   "metadata": {},
   "outputs": [],
   "source": [
    "# Get and print the database tables\n",
    "print(db.tables)\n",
    "\n",
    "# Get a table from the DB.\n",
    "table = db.get_table(\"NACIMIENTO\")\n",
    "\n",
    "# Or you can use the MDBTable class.\n",
    "table = MDBTable(file_path=db, table=\"NACIMIENTO\")\n",
    "\n",
    "# Get and print the table columns.\n",
    "print(table.columns)\n"
   ]
  },
  {
   "cell_type": "code",
   "execution_count": 27,
   "metadata": {},
   "outputs": [
    {
     "data": {
      "text/plain": [
       "<mdb_parser.MDBTable at 0x13793d9d0>"
      ]
     },
     "execution_count": 27,
     "metadata": {},
     "output_type": "execute_result"
    }
   ],
   "source": [
    "table"
   ]
  },
  {
   "cell_type": "code",
   "execution_count": null,
   "metadata": {},
   "outputs": [],
   "source": []
  }
 ],
 "metadata": {
  "kernelspec": {
   "display_name": "Python 3",
   "language": "python",
   "name": "python3"
  },
  "language_info": {
   "codemirror_mode": {
    "name": "ipython",
    "version": 3
   },
   "file_extension": ".py",
   "mimetype": "text/x-python",
   "name": "python",
   "nbconvert_exporter": "python",
   "pygments_lexer": "ipython3",
   "version": "3.11.1"
  },
  "orig_nbformat": 4,
  "vscode": {
   "interpreter": {
    "hash": "5c7b89af1651d0b8571dde13640ecdccf7d5a6204171d6ab33e7c296e100e08a"
   }
  }
 },
 "nbformat": 4,
 "nbformat_minor": 2
}
