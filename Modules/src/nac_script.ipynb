{
 "cells": [
  {
   "cell_type": "code",
   "execution_count": 1,
   "metadata": {},
   "outputs": [],
   "source": [
    "import glob\n",
    "from meza import io\n",
    "import numpy as np\n",
    "import pandas as pd\n",
    "import pandas_access as mdb\n",
    "import zipfile\n",
    "import os\n",
    "from os.path import join, basename\n",
    "from params import get_params\n",
    "pd.set_option(\"display.max_columns\", 150)"
   ]
  },
  {
   "cell_type": "code",
   "execution_count": 3,
   "metadata": {},
   "outputs": [],
   "source": [
    "params = get_params()\n",
    "path = '/Users/pierredelice/Library/CloudStorage/Dropbox/Mac/Documents/GitHub/Dgis/Data/nacimiento/'\n",
    "file = glob.glob(join(path,r'*.csv'))\n",
    "file_zip = glob.glob(join(path,r'*.zip'))\n",
    "nacimiento_2020 = 'nac_unzip/Nacimientos_cierre_2020/Nacimientos_cierre_2020.csv'\n",
    "\n",
    "for arc_name in glob.iglob(os.path.join(path, \"*.zip\")):\n",
    "    arc_dir_name = os.path.splitext(os.path.basename(arc_name))[0]\n",
    "    zf = zipfile.ZipFile(arc_name)\n",
    "    zf.extractall(path=os.path.join(path, \"nac_unzip\", arc_dir_name))\n",
    "    zf.close()  # Close file after extraction is completed\n",
    "\n",
    "#Iterate through folders, directories and subdirectories.\n",
    "def list_files(dir):\n",
    "    r = []\n",
    "    for root, dirs, files in os.walk(dir):\n",
    "        for name in files:\n",
    "            r.append(os.path.join(root, name))\n",
    "    return r\n",
    "\n",
    "files_mdb =list_files(join(path,'nac_unzip'))"
   ]
  },
  {
   "cell_type": "code",
   "execution_count": 9,
   "metadata": {},
   "outputs": [],
   "source": [
    "## Access Birth 2020\n",
    "\n",
    "cols = ['FOLIO','NOMBRE','PRIMERAPELLIDO','SEGUNDOAPELLIDO','CURPMADRE',\n",
    "'FECHANACIMIENTOMADRE','ENTIDADNACIMIENTO','ENTIDADNACIMIENTOD',\n",
    "'MUNICIPIONACIMIENTO','MUNICIPIONACIMIENTOD',\n",
    "'ENTIDADRESIDENCIA','ENTIDADRESIDENCIAD','MUNICIPIORESIDENCIA',\n",
    "'MUNICIPIORESIDENCIAD','LOCALIDADRESIDENCIA','LOCALIDADRESIDENCIAD',\n",
    "'HIJOSNACIDOSMUERTOS','HIJOSNACIDOSVIVOS','CERTIFICADODEFUNCION',\n",
    "'AFILIACION','AFILIACIOND','FECHANACIMIENTO','HORANACIMIENTO','SEXO',\n",
    "'ENTIDADFEDERATIVAPARTO','ENTIDADFEDERATIVAPARTOD','MUNICIPIOPARTO',\n",
    "'MUNICIPIOPARTOD','LOCALIDADPARTO','LOCALIDADPARTOD','CODIGOPOSTALPARTO']\n",
    "\n",
    "name = {'PRIMERAPELLIDO':'paterno',\n",
    "'SEGUNDOAPELLIDO':'materno',\n",
    "'CURPMADRE':'curp',\n",
    "'FECHANACIMIENTOMADRE':'fech_nac_madre',\n",
    "'ENTIDADNACIMIENTO':'ent_nac_madre',\n",
    "'MUNICIPIONACIMIENTO':'mun_nac_madre',\n",
    "'ENTIDADRESIDENCIA':'ent_res',\n",
    "'MUNICIPIORESIDENCIA':'mun_res',\n",
    "'LOCALIDADRESIDENCIA':'local_res',\n",
    "'HIJOSNACIDOSMUERTOS':'hijos_muertos',\n",
    "'HIJOSNACIDOSVIVOS':'hijos_vivos',\n",
    "'FECHANACIMIENTO':'fech_nac',\n",
    "'ENTIDADFEDERATIVAPARTO':'ent_parto',\n",
    "'MUNICIPIOPARTO':'mun_parto',\n",
    "'LOCALIDADPARTO':'localidad_parto'}\n",
    "\n",
    "#Read data\n",
    "nac2020 = pd.read_csv(join(path,nacimiento_2020), usecols= cols, low_memory=False)\n",
    "\n",
    "#Rename columns\n",
    "nac2020.rename(columns=name, inplace =True)\n",
    "\n",
    "#To lower case columns\n",
    "nac2020.columns = [x.lower() for x in nac2020.columns]\n",
    "\n",
    "\n",
    "#To lower strings columns\n",
    "nac2020 = nac2020.apply(lambda x: x.astype(str).str.lower())\n",
    "\n",
    "#Convert to string\n",
    "nac2020 = nac2020.convert_dtypes()\n",
    "\n",
    "#Create fullname: Nombre + Apellido materno y paterno\n",
    "nac2020['name'] = nac2020[['nombre', 'paterno', 'materno']].agg(' '.join, axis=1)"
   ]
  },
  {
   "cell_type": "code",
   "execution_count": 46,
   "metadata": {},
   "outputs": [
    {
     "data": {
      "text/plain": [
       "name       0\n",
       "nombre     0\n",
       "paterno    0\n",
       "materno    0\n",
       "dtype: int64"
      ]
     },
     "execution_count": 46,
     "metadata": {},
     "output_type": "execute_result"
    }
   ],
   "source": [
    "nac2020[['name','nombre','paterno','materno']].isnull().sum()"
   ]
  },
  {
   "cell_type": "code",
   "execution_count": 29,
   "metadata": {},
   "outputs": [],
   "source": [
    "#Create fullname: Nombre + Apellido materno y paterno\n",
    "nac2020['name'] = nac2020[['nombre', 'paterno', 'materno']].agg(' '.join, axis=1)"
   ]
  },
  {
   "cell_type": "code",
   "execution_count": 32,
   "metadata": {},
   "outputs": [
    {
     "data": {
      "text/plain": [
       "nombre     0.193663\n",
       "paterno    0.021205\n",
       "materno    0.020418\n",
       "name       0.948284\n",
       "dtype: float64"
      ]
     },
     "execution_count": 32,
     "metadata": {},
     "output_type": "execute_result"
    }
   ],
   "source": [
    "(nac2020[['nombre', 'paterno','materno', 'name']].nunique()/len(nac2020))"
   ]
  },
  {
   "cell_type": "code",
   "execution_count": 30,
   "metadata": {},
   "outputs": [
    {
     "data": {
      "text/plain": [
       "<AxesSubplot: >"
      ]
     },
     "execution_count": 30,
     "metadata": {},
     "output_type": "execute_result"
    },
    {
     "data": {
      "image/png": "[encoded data removed]",
      "text/plain": [
       "<Figure size 640x480 with 1 Axes>"
      ]
     },
     "metadata": {},
     "output_type": "display_data"
    }
   ],
   "source": [
    "(nac2020[['nombre', 'paterno','materno', 'name']].nunique()/len(nac2020)).plot(kind='barh')"
   ]
  },
  {
   "cell_type": "code",
   "execution_count": null,
   "metadata": {},
   "outputs": [],
   "source": [
    "pd.DataFrame(nac2020.groupby(['name']).value_counts())"
   ]
  },
  {
   "cell_type": "code",
   "execution_count": null,
   "metadata": {},
   "outputs": [],
   "source": [
    "import re\n",
    "stopwords = ['sin informacion']"
   ]
  },
  {
   "cell_type": "code",
   "execution_count": 5,
   "metadata": {},
   "outputs": [],
   "source": [
    "#pd.concat([pd.read_csv(idx,encoding= 'unicode_escape') for idx in file])"
   ]
  },
  {
   "cell_type": "markdown",
   "metadata": {},
   "source": [
    "from mdb_parser import MDBParser, MDBTable\n",
    "\n",
    "db = MDBParser(file_path=files_mdb[2])\n",
    "\n",
    "\n",
    "# Get and print the database tables\n",
    "print(db.tables)\n",
    "\n",
    "# Get a table from the DB.\n",
    "table = db.get_table(\"NACIMIENTO\")\n",
    "\n",
    "# Or you can use the MDBTable class.\n",
    "table = MDBTable(file_path=files_mdb[2], table=\"NACIMIENTO\")\n",
    "\n",
    "# Get and print the table columns.\n",
    "print(table.columns)\n",
    "\n",
    "# Iterate the table rows.\n",
    "#for row in table:\n",
    "#    print(row)\n"
   ]
  },
  {
   "cell_type": "code",
   "execution_count": 7,
   "metadata": {},
   "outputs": [],
   "source": [
    "nacimiento = []\n",
    "for row in table:\n",
    "    nacimiento.append(row)\n"
   ]
  },
  {
   "cell_type": "code",
   "execution_count": 8,
   "metadata": {},
   "outputs": [],
   "source": [
    "cols = ['FOLIO','NOMBRE','PATERNO','MATERNO','CURP_M','ENT_NACM','MPO_NACM','FECH_NACM', \n",
    "'EDOCIVIL','CALLE_RES','ENT_RES','MPO_RES','LOC_RES','HIJO_SOBV','CERTDEF',\n",
    " 'DERHAB','NIV_ESCOL','OCUPHAB','FECH_NACH','HORA_NACH','SEXOH']\n",
    "\n",
    "nac_sample = pd.DataFrame(nacimiento, columns = table.columns)\n",
    "nac_sample = nac_sample[cols] \n",
    "nac_sample = nac_sample.sample(n=10000, random_state=1)\n",
    "nac_sample.columns = nac_sample.columns.str.lower()\n",
    "\n",
    "nac_sample[['nombre', 'paterno', 'materno', 'calle_res', 'ocuphab']] = \\\n",
    "    (nac_sample[['nombre', 'paterno', 'materno', 'calle_res', 'ocuphab']]\n",
    "    .astype('category')\n",
    "    .apply(lambda x: x.str.lower()))"
   ]
  },
  {
   "cell_type": "code",
   "execution_count": null,
   "metadata": {},
   "outputs": [],
   "source": [
    "nac_sample['nombre'].value_counts().plot()"
   ]
  },
  {
   "cell_type": "code",
   "execution_count": null,
   "metadata": {},
   "outputs": [],
   "source": []
  }
 ],
 "metadata": {
  "kernelspec": {
   "display_name": "Python 3",
   "language": "python",
   "name": "python3"
  },
  "language_info": {
   "codemirror_mode": {
    "name": "ipython",
    "version": 3
   },
   "file_extension": ".py",
   "mimetype": "text/x-python",
   "name": "python",
   "nbconvert_exporter": "python",
   "pygments_lexer": "ipython3",
   "version": "3.11.1"
  },
  "orig_nbformat": 4,
  "vscode": {
   "interpreter": {
    "hash": "5c7b89af1651d0b8571dde13640ecdccf7d5a6204171d6ab33e7c296e100e08a"
   }
  }
 },
 "nbformat": 4,
 "nbformat_minor": 2
}
