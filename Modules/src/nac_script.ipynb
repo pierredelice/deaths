{
 "cells": [
  {
   "cell_type": "code",
   "execution_count": 1,
   "metadata": {},
   "outputs": [],
   "source": [
    "import glob\n",
    "from meza import io\n",
    "import numpy as np\n",
    "import pandas as pd\n",
    "import pandas_access as mdb\n",
    "import zipfile\n",
    "import os\n",
    "from os.path import join, basename\n",
    "from params import get_params"
   ]
  },
  {
   "cell_type": "code",
   "execution_count": 2,
   "metadata": {},
   "outputs": [],
   "source": [
    "params = get_params()\n",
    "path = '/Users/pierredelice/Library/CloudStorage/Dropbox/Mac/Documents/GitHub/Defunción/Data/nacimiento/'\n",
    "file = glob.glob(join(path,r'*.csv'))\n",
    "file_zip = glob.glob(join(path,r'*.zip'))\n",
    "\n",
    "for arc_name in glob.iglob(os.path.join(path, \"*.zip\")):\n",
    "    arc_dir_name = os.path.splitext(os.path.basename(arc_name))[0]\n",
    "    zf = zipfile.ZipFile(arc_name)\n",
    "    zf.extractall(path=os.path.join(path, \"nac_unzip\", arc_dir_name))\n",
    "    zf.close()  # Close file after extraction is completed\n",
    "\n",
    "#Iterate through folders, directories and subdirectories.\n",
    "def list_files(dir):\n",
    "    r = []\n",
    "    for root, dirs, files in os.walk(dir):\n",
    "        for name in files:\n",
    "            r.append(os.path.join(root, name))\n",
    "    return r\n",
    "\n",
    "files_mdb =list_files(join(path,'nac_unzip'))"
   ]
  },
  {
   "cell_type": "code",
   "execution_count": 3,
   "metadata": {},
   "outputs": [
    {
     "data": {
      "text/plain": [
       "'/Users/pierredelice/Library/CloudStorage/Dropbox/Mac/Documents/GitHub/Defunción/Data/nacimiento/nac_unzip/SINAC0936/SINAC0936.mdb'"
      ]
     },
     "execution_count": 3,
     "metadata": {},
     "output_type": "execute_result"
    }
   ],
   "source": [
    "files_mdb[2]"
   ]
  },
  {
   "cell_type": "code",
   "execution_count": null,
   "metadata": {},
   "outputs": [],
   "source": [
    "#pd.concat([pd.read_csv(idx,encoding= 'unicode_escape') for idx in file])"
   ]
  },
  {
   "cell_type": "code",
   "execution_count": 5,
   "metadata": {},
   "outputs": [
    {
     "name": "stdout",
     "output_type": "stream",
     "text": [
      "['CatAtendioParto', 'CatCertifica', 'CATCLUES', 'CATDEREC', 'CatEscolaridad', 'CatEstados', 'CatJurisd', 'CatLocal', 'CatLugarNac', 'CATLUGCAPT', 'CATMPO', 'CATOCUHA', 'CATPRODUCTO', 'CatSexo', 'CatSiNo', 'CatTipoProced', 'CatTrimestres', 'CatVariables', 'DATINI', 'Listadet', 'NACIMIENTO', 'CatEdoConyugal', 'CATMESES', 'CatTipoNaciAnterior']\n",
      "['CEDOCVE', 'FOLIO', 'NOMBRE', 'PATERNO', 'MATERNO', 'CURP_M', 'ENT_NACM', 'MPO_NACM', 'FECH_NACM', 'EDOCIVIL', 'CALLE_RES', 'ENT_RES', 'MPO_RES', 'LOC_RES', 'NUM_EMB', 'NUM_NACMTO', 'NUM_NACVIVO', 'HIJO_SOBV', 'HIJO_ANTE', 'VIVE_AUN', 'FECH_NHEA', 'ORDEN_NAC', 'ATEN_PREN', 'TRIM_CONS', 'TOT_CONS', 'SOB_PARTO', 'CERTDEF', 'DERHAB', 'NUMAFILIAC', 'DERHAB2', 'NIV_ESCOL', 'OCUPHAB', 'CVEOCUPHAB', 'TRAB_ACT', 'FECH_NACH', 'HORA_NACH', 'SEXOH', 'GESTACH', 'TALLAH', 'PESOH', 'APGARH', 'SILVERMAN', 'BCG', 'HEP_B', 'VIT_A', 'VIT_K', 'TAM_MET', 'TAM_AUD', 'PRODUCTO', 'ACELRN', 'CVE_CIE', 'ACELRN2', 'CVE_CIE2', 'PROCNAC', 'ESPECIFIQUE', 'INST_NAC', 'UNIMED', 'CLUES', 'ATENDIO', 'ATEN_OTRO', 'CALLE_NAC', 'ENT_NAC', 'MPO_NAC', 'LOC_NAC', 'NOMBRE_C', 'PATERNOC', 'MATERNOC', 'CERT_POR', 'OTROMEDICO', 'CED_MEDC', 'UNIMED_33_1', 'CLUES_33_2', 'CALLE_CERT', 'ENT_CERT', 'MPO_CERT', 'LOC_CERT', 'TEL_CERT', 'FECH_CERT', 'USER_ALTA', 'FECH_ALTA', 'USER_CAMB', 'FECH_CAMB', 'IDCAPTURA', 'TIPO_FORMATO']\n"
     ]
    }
   ],
   "source": [
    "from mdb_parser import MDBParser, MDBTable\n",
    "\n",
    "db = MDBParser(file_path=files_mdb[2])\n",
    "\n",
    "\n",
    "# Get and print the database tables\n",
    "print(db.tables)\n",
    "\n",
    "# Get a table from the DB.\n",
    "table = db.get_table(\"NACIMIENTO\")\n",
    "\n",
    "# Or you can use the MDBTable class.\n",
    "table = MDBTable(file_path=files_mdb[2], table=\"NACIMIENTO\")\n",
    "\n",
    "# Get and print the table columns.\n",
    "print(table.columns)\n",
    "\n",
    "# Iterate the table rows.\n",
    "#for row in table:\n",
    "#    print(row)\n"
   ]
  },
  {
   "cell_type": "code",
   "execution_count": 6,
   "metadata": {},
   "outputs": [],
   "source": [
    "nacimiento = []\n",
    "for row in table:\n",
    "    nacimiento.append(row)\n"
   ]
  },
  {
   "cell_type": "code",
   "execution_count": 7,
   "metadata": {},
   "outputs": [],
   "source": [
    "cols = ['FOLIO','NOMBRE','PATERNO','MATERNO','CURP_M','ENT_NACM','MPO_NACM','FECH_NACM', \n",
    "'EDOCIVIL','CALLE_RES','ENT_RES','MPO_RES','LOC_RES','HIJO_SOBV','CERTDEF',\n",
    " 'DERHAB','NIV_ESCOL','OCUPHAB','FECH_NACH','HORA_NACH','SEXOH']\n",
    "\n",
    "nac_sample = pd.DataFrame(nacimiento, columns = table.columns)\n",
    "nac_sample = nac_sample[cols] \n",
    "nac_sample = nac_sample.sample(n=10000, random_state=1)\n",
    "nac_sample.columns = nac_sample.columns.str.lower()\n",
    "\n",
    "nac_sample[['nombre', 'paterno', 'materno', 'calle_res', 'ocuphab']] = \\\n",
    "    (nac_sample[['nombre', 'paterno', 'materno', 'calle_res', 'ocuphab']]\n",
    "    .astype('category')\n",
    "    .apply(lambda x: x.str.lower()))"
   ]
  },
  {
   "cell_type": "code",
   "execution_count": null,
   "metadata": {},
   "outputs": [],
   "source": [
    "nac_sample['nombre'].value_counts().plot()"
   ]
  },
  {
   "cell_type": "code",
   "execution_count": null,
   "metadata": {},
   "outputs": [],
   "source": []
  }
 ],
 "metadata": {
  "kernelspec": {
   "display_name": "Python 3",
   "language": "python",
   "name": "python3"
  },
  "language_info": {
   "codemirror_mode": {
    "name": "ipython",
    "version": 3
   },
   "file_extension": ".py",
   "mimetype": "text/x-python",
   "name": "python",
   "nbconvert_exporter": "python",
   "pygments_lexer": "ipython3",
   "version": "3.11.1"
  },
  "orig_nbformat": 4,
  "vscode": {
   "interpreter": {
    "hash": "5c7b89af1651d0b8571dde13640ecdccf7d5a6204171d6ab33e7c296e100e08a"
   }
  }
 },
 "nbformat": 4,
 "nbformat_minor": 2
}
