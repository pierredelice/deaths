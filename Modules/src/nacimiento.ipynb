{
 "cells": [
  {
   "cell_type": "code",
   "execution_count": 14,
   "metadata": {},
   "outputs": [],
   "source": [
    "from meza import io\n",
    "import numpy as np\n",
    "import pandas as pd"
   ]
  },
  {
   "cell_type": "code",
   "execution_count": 16,
   "metadata": {},
   "outputs": [
    {
     "data": {
      "text/plain": [
       "<generator object read_mdb at 0x137192e40>"
      ]
     },
     "execution_count": 16,
     "metadata": {},
     "output_type": "execute_result"
    }
   ],
   "source": [
    "path = '/Users/pierredelice/Library/CloudStorage/Dropbox/Mac/Downloads/Bibliography_tesis_buap/ICOKG_2022/python_bigquery/dgis_datos_id/nacimiento/'\n",
    "records = io.read(path+'SINAC1436-A-01-16-OFICIAL.mdb') # only file path, no file objects\n",
    "records"
   ]
  },
  {
   "cell_type": "code",
   "execution_count": 22,
   "metadata": {},
   "outputs": [],
   "source": [
    "from mdb_parser import MDBParser, MDBTable\n",
    "\n",
    "db = MDBParser(file_path='/Users/pierredelice/Library/CloudStorage/Dropbox/Mac/Downloads/Bibliography_tesis_buap/ICOKG_2022/python_bigquery/dgis_datos_id/nacimiento/SINAC1436-A-01-16-OFICIAL.mdb')\n"
   ]
  },
  {
   "cell_type": "code",
   "execution_count": 26,
   "metadata": {},
   "outputs": [
    {
     "name": "stdout",
     "output_type": "stream",
     "text": [
      "['CAT_JURIS_MPO', 'CatAtendioParto', 'CatCertifica', 'CATCLUES', 'CATDEREC', 'CatEdoConyugal', 'CatEscolaridad', 'CATESCOLARIDADCOMPLETA', 'CatEstados', 'CatJurisd', 'CATLENGUASINDIGENAS', 'CatLocal', 'CatLugarNac', 'CATLUGCAPT', 'CATMESES', 'CATOCUHA', 'CATPRODUCTO', 'CatSexo', 'CatSiNo', 'CATTIPOASEN', 'CatTipoProced', 'CatTrimestres', 'CatVariables', 'CATVIALIDAD', 'CEDS_PROFS', 'DATINI', 'FOLIOS_CANCELADOS', 'JURIS_MPO', 'Listadet', 'NACIMIENTO', 'PrinACEL', 'RNG_EDAD_PESO_TALLA', 'USUARIOS', 'CATESCOLARIDADGENERAL', 'CATMPO', 'CatTipoNaciAnterior', 'FOLIOS_RANGOS']\n",
      "['']\n"
     ]
    },
    {
     "name": "stderr",
     "output_type": "stream",
     "text": [
      "/bin/sh: mdb_parser.MDBParser: No such file or directory\n"
     ]
    }
   ],
   "source": [
    "# Get and print the database tables\n",
    "print(db.tables)\n",
    "\n",
    "# Get a table from the DB.\n",
    "table = db.get_table(\"NACIMIENTO\")\n",
    "\n",
    "# Or you can use the MDBTable class.\n",
    "table = MDBTable(file_path=db, table=\"NACIMIENTO\")\n",
    "\n",
    "# Get and print the table columns.\n",
    "print(table.columns)\n"
   ]
  },
  {
   "cell_type": "code",
   "execution_count": 27,
   "metadata": {},
   "outputs": [
    {
     "data": {
      "text/plain": [
       "<mdb_parser.MDBTable at 0x13793d9d0>"
      ]
     },
     "execution_count": 27,
     "metadata": {},
     "output_type": "execute_result"
    }
   ],
   "source": [
    "table"
   ]
  },
  {
   "cell_type": "code",
   "execution_count": null,
   "metadata": {},
   "outputs": [],
   "source": []
  }
 ],
 "metadata": {
  "kernelspec": {
   "display_name": "Python 3",
   "language": "python",
   "name": "python3"
  },
  "language_info": {
   "codemirror_mode": {
    "name": "ipython",
    "version": 3
   },
   "file_extension": ".py",
   "mimetype": "text/x-python",
   "name": "python",
   "nbconvert_exporter": "python",
   "pygments_lexer": "ipython3",
   "version": "3.11.0 (v3.11.0:deaf509e8f, Oct 24 2022, 14:43:23) [Clang 13.0.0 (clang-1300.0.29.30)]"
  },
  "orig_nbformat": 4,
  "vscode": {
   "interpreter": {
    "hash": "aee8b7b246df8f9039afb4144a1f6fd8d2ca17a180786b69acc140d282b71a49"
   }
  }
 },
 "nbformat": 4,
 "nbformat_minor": 2
}
